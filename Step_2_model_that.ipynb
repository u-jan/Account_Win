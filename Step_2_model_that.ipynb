{
 "cells": [
  {
   "cell_type": "markdown",
   "metadata": {},
   "source": [
    "# Modelling \n",
    "\n",
    "Step by step improvement of the model"
   ]
  },
  {
   "cell_type": "markdown",
   "metadata": {},
   "source": [
    "Gather the troopers"
   ]
  },
  {
   "cell_type": "code",
   "execution_count": 1,
   "metadata": {},
   "outputs": [],
   "source": [
    "import pandas as pd\n",
    "import numpy as np\n",
    "import seaborn as sns\n",
    "import matplotlib.pyplot as plt\n",
    "\n",
    "from sklearn.linear_model import LogisticRegression\n",
    "from sklearn import metrics\n",
    "\n",
    "from sklearn.metrics import classification_report\n",
    "\n",
    "\n",
    "import warnings\n",
    "warnings.filterwarnings('ignore')\n",
    "\n",
    "import source.model as moody\n",
    "import source.funk as fun"
   ]
  },
  {
   "cell_type": "markdown",
   "metadata": {},
   "source": [
    "Load csv to the pandas dataframe."
   ]
  },
  {
   "cell_type": "code",
   "execution_count": 2,
   "metadata": {},
   "outputs": [],
   "source": [
    "df = pd.read_csv('data/data_main_ml')"
   ]
  },
  {
   "cell_type": "code",
   "execution_count": 3,
   "metadata": {},
   "outputs": [],
   "source": [
    "df.drop('Unnamed: 0',axis=1,inplace=True) "
   ]
  },
  {
   "cell_type": "code",
   "execution_count": 4,
   "metadata": {},
   "outputs": [
    {
     "data": {
      "text/plain": [
       "(1056, 14)"
      ]
     },
     "execution_count": 4,
     "metadata": {},
     "output_type": "execute_result"
    }
   ],
   "source": [
    "df.shape"
   ]
  },
  {
   "cell_type": "markdown",
   "metadata": {},
   "source": [
    "We are playing here, and we will play more. So:"
   ]
  },
  {
   "cell_type": "code",
   "execution_count": 5,
   "metadata": {},
   "outputs": [],
   "source": [
    "df_backup = df.copy()"
   ]
  },
  {
   "cell_type": "code",
   "execution_count": 6,
   "metadata": {},
   "outputs": [
    {
     "data": {
      "text/plain": [
       "Index(['Lead Source', 'Amount', 'Won', 'rank', 'job_category', 'lead_group',\n",
       "       'industry_groups', 'country', 'close_year', 'create_year',\n",
       "       'Registered_Days', 'day', 'week', 'month'],\n",
       "      dtype='object')"
      ]
     },
     "execution_count": 6,
     "metadata": {},
     "output_type": "execute_result"
    }
   ],
   "source": [
    "df.columns"
   ]
  },
  {
   "cell_type": "markdown",
   "metadata": {},
   "source": [
    "Lets get a Baseline Score:"
   ]
  },
  {
   "cell_type": "markdown",
   "metadata": {},
   "source": [
    "## Baseline Estimator"
   ]
  },
  {
   "cell_type": "code",
   "execution_count": 7,
   "metadata": {},
   "outputs": [],
   "source": [
    "from sklearn.dummy import DummyClassifier\n",
    "from sklearn.model_selection import train_test_split\n",
    "from sklearn.preprocessing import StandardScaler"
   ]
  },
  {
   "cell_type": "markdown",
   "metadata": {},
   "source": [
    "Set the Target and the features."
   ]
  },
  {
   "cell_type": "code",
   "execution_count": 8,
   "metadata": {},
   "outputs": [],
   "source": [
    "focus_df = df[['Amount', 'Won','close_year']]"
   ]
  },
  {
   "cell_type": "code",
   "execution_count": 9,
   "metadata": {},
   "outputs": [],
   "source": [
    "y = focus_df['Won']\n",
    "X = focus_df.drop(['Won'],axis = 1)"
   ]
  },
  {
   "cell_type": "code",
   "execution_count": 10,
   "metadata": {},
   "outputs": [
    {
     "data": {
      "text/plain": [
       "Index(['Amount', 'close_year'], dtype='object')"
      ]
     },
     "execution_count": 10,
     "metadata": {},
     "output_type": "execute_result"
    }
   ],
   "source": [
    "X.columns"
   ]
  },
  {
   "cell_type": "code",
   "execution_count": 11,
   "metadata": {},
   "outputs": [
    {
     "data": {
      "text/plain": [
       "0.2897727272727273"
      ]
     },
     "execution_count": 11,
     "metadata": {},
     "output_type": "execute_result"
    }
   ],
   "source": [
    "y.mean()"
   ]
  },
  {
   "cell_type": "markdown",
   "metadata": {},
   "source": [
    "Train Test Split"
   ]
  },
  {
   "cell_type": "code",
   "execution_count": 12,
   "metadata": {},
   "outputs": [],
   "source": [
    "X_train, X_test, y_train, y_test = train_test_split(X,y, test_size=0.3, random_state=45)"
   ]
  },
  {
   "cell_type": "code",
   "execution_count": 13,
   "metadata": {},
   "outputs": [
    {
     "data": {
      "text/plain": [
       "DummyClassifier(constant=None, random_state=None, strategy='stratified')"
      ]
     },
     "execution_count": 13,
     "metadata": {},
     "output_type": "execute_result"
    }
   ],
   "source": [
    "# Create a dummy regressor\n",
    "dummy_classifier = DummyClassifier()\n",
    "\n",
    "# \"Train\" dummy regressor\n",
    "dummy_classifier.fit(X_train, y_train)"
   ]
  },
  {
   "cell_type": "code",
   "execution_count": 14,
   "metadata": {},
   "outputs": [
    {
     "data": {
      "text/plain": [
       "0.5993690851735016"
      ]
     },
     "execution_count": 14,
     "metadata": {},
     "output_type": "execute_result"
    }
   ],
   "source": [
    "# Get R-squared score\n",
    "dummy_classifier.score(X_test, y_test)  "
   ]
  },
  {
   "cell_type": "markdown",
   "metadata": {},
   "source": [
    "Thats the score we shall beat! No... Gotcha. The dataset is pretty small therefore train_test_split is likely to lead to different distributions. I will retrain this for a 1000 times and get the average of the final scores. Then I will beat that score instead."
   ]
  },
  {
   "cell_type": "code",
   "execution_count": 15,
   "metadata": {},
   "outputs": [
    {
     "name": "stdout",
     "output_type": "stream",
     "text": [
      "max: 0.6656151419558359\n",
      "min: 0.4921135646687697\n",
      "mean: 0.5845141955835961\n"
     ]
    }
   ],
   "source": [
    "dummy_scores = []\n",
    "\n",
    "for i in range(1000):\n",
    "    X_train, X_test, y_train, y_test = train_test_split(X,y, test_size=0.3, random_state=45)\n",
    "    dummy_classifier = DummyClassifier()\n",
    "    dummy_classifier.fit(X_train, y_train)\n",
    "    dummy_scores.append(dummy_classifier.score(X_test, y_test))\n",
    "\n",
    "print(f\"max: {np.array(dummy_scores).max()}\")\n",
    "print(f\"min: {np.array(dummy_scores).min()}\")\n",
    "print(f\"mean: {np.array(dummy_scores).mean()}\")\n",
    "# see? the average score"
   ]
  },
  {
   "cell_type": "markdown",
   "metadata": {},
   "source": [
    "See? By random chance dummy regressor would return a number of possible values between 0.5 to 0.65 which is entirely due to train test split of the small dataset. \n",
    "\n",
    "Instead we are well awere of the score we need to beat now."
   ]
  },
  {
   "cell_type": "markdown",
   "metadata": {},
   "source": [
    "### Dummy Logistic Regression"
   ]
  },
  {
   "cell_type": "code",
   "execution_count": 16,
   "metadata": {},
   "outputs": [
    {
     "data": {
      "text/plain": [
       "Index(['Amount', 'close_year'], dtype='object')"
      ]
     },
     "execution_count": 16,
     "metadata": {},
     "output_type": "execute_result"
    }
   ],
   "source": [
    "X.columns"
   ]
  },
  {
   "cell_type": "code",
   "execution_count": 17,
   "metadata": {},
   "outputs": [
    {
     "data": {
      "text/plain": [
       "LogisticRegression(C=1.0, class_weight=None, dual=False, fit_intercept=True,\n",
       "          intercept_scaling=1, max_iter=100, multi_class='warn',\n",
       "          n_jobs=None, penalty='l2', random_state=None, solver='warn',\n",
       "          tol=0.0001, verbose=0, warm_start=False)"
      ]
     },
     "execution_count": 17,
     "metadata": {},
     "output_type": "execute_result"
    }
   ],
   "source": [
    "from sklearn.linear_model import LogisticRegression\n",
    "from sklearn import metrics\n",
    "\n",
    "logreg = LogisticRegression()\n",
    "logreg.fit(X_train,y_train)"
   ]
  },
  {
   "cell_type": "code",
   "execution_count": 18,
   "metadata": {},
   "outputs": [
    {
     "name": "stdout",
     "output_type": "stream",
     "text": [
      "Accuracy of logistic regression classifier on test set: 0.69\n"
     ]
    }
   ],
   "source": [
    "y_pred = logreg.predict(X_test)\n",
    "print('Accuracy of logistic regression classifier on test set: {:.2f}'.format(logreg.score(X_test, y_test)))\n",
    "y_prob = logreg.predict_proba(X_test)[:, 1]"
   ]
  },
  {
   "cell_type": "code",
   "execution_count": 19,
   "metadata": {},
   "outputs": [
    {
     "name": "stdout",
     "output_type": "stream",
     "text": [
      "              precision    recall  f1-score   support\n",
      "\n",
      "         0.0       0.69      1.00      0.82       219\n",
      "         1.0       0.00      0.00      0.00        98\n",
      "\n",
      "   micro avg       0.69      0.69      0.69       317\n",
      "   macro avg       0.35      0.50      0.41       317\n",
      "weighted avg       0.48      0.69      0.56       317\n",
      "\n"
     ]
    }
   ],
   "source": [
    "from sklearn.metrics import classification_report\n",
    "print(classification_report(y_test, y_pred))"
   ]
  },
  {
   "cell_type": "markdown",
   "metadata": {},
   "source": [
    "Overfit and 0.56 f-1 score. We all seen better days eh?\n",
    "\n",
    "Let me make your day.\n",
    "\n",
    "If you are not informed about ROC: As can be seen it is a graph that demonstrates the performance of the model in terms of TP vs FP. The area under the blue line shows how accurate the model is, which is defined as the AUC score."
   ]
  },
  {
   "cell_type": "markdown",
   "metadata": {},
   "source": [
    "### Logistic Regression ROC & AUC"
   ]
  },
  {
   "cell_type": "code",
   "execution_count": 20,
   "metadata": {},
   "outputs": [
    {
     "data": {
      "image/png": "[encoded data removed]",
      "text/plain": [
       "<Figure size 432x432 with 1 Axes>"
      ]
     },
     "metadata": {
      "needs_background": "light"
     },
     "output_type": "display_data"
    }
   ],
   "source": [
    "# Compute ROC and AUC\n",
    "from sklearn.metrics import auc, roc_curve\n",
    "fpr, tpr, thresholds = roc_curve(y_true=y_test, y_score=y_prob)\n",
    "auc_score = auc(fpr, tpr)\n",
    "\n",
    "moody.plot_roc(fpr, tpr, auc_score)"
   ]
  },
  {
   "cell_type": "markdown",
   "metadata": {},
   "source": [
    "### Dummy Gradient Boost Classifier"
   ]
  },
  {
   "cell_type": "markdown",
   "metadata": {},
   "source": [
    "X_train = ['Amount', 'Registered_Days', 'month']"
   ]
  },
  {
   "cell_type": "code",
   "execution_count": 21,
   "metadata": {},
   "outputs": [],
   "source": [
    "from sklearn.ensemble import GradientBoostingClassifier"
   ]
  },
  {
   "cell_type": "code",
   "execution_count": 22,
   "metadata": {},
   "outputs": [
    {
     "data": {
      "text/plain": [
       "GradientBoostingClassifier(criterion='friedman_mse', init=None,\n",
       "              learning_rate=0.01, loss='deviance', max_depth=3,\n",
       "              max_features=None, max_leaf_nodes=None,\n",
       "              min_impurity_decrease=0.0, min_impurity_split=None,\n",
       "              min_samples_leaf=1, min_samples_split=2,\n",
       "              min_weight_fraction_leaf=0.0, n_estimators=1000,\n",
       "              n_iter_no_change=None, presort='auto', random_state=None,\n",
       "              subsample=1.0, tol=0.0001, validation_fraction=0.1,\n",
       "              verbose=0, warm_start=False)"
      ]
     },
     "execution_count": 22,
     "metadata": {},
     "output_type": "execute_result"
    }
   ],
   "source": [
    "gb = GradientBoostingClassifier(learning_rate = 0.01, n_estimators = 1000)\n",
    "gb.fit(X_train,y_train)"
   ]
  },
  {
   "cell_type": "code",
   "execution_count": 23,
   "metadata": {},
   "outputs": [
    {
     "data": {
      "text/plain": [
       "0.6719242902208202"
      ]
     },
     "execution_count": 23,
     "metadata": {},
     "output_type": "execute_result"
    }
   ],
   "source": [
    "gb.score(X_test, y_test)"
   ]
  },
  {
   "cell_type": "code",
   "execution_count": 24,
   "metadata": {},
   "outputs": [
    {
     "name": "stdout",
     "output_type": "stream",
     "text": [
      "Accuracy of GB classifier on test set: 0.67\n"
     ]
    }
   ],
   "source": [
    "y_pred_gb = gb.predict(X_test)\n",
    "print('Accuracy of GB classifier on test set: {:.2f}'.format(gb.score(X_test, y_test)))\n",
    "y_prob_gb = gb.predict_proba(X_test)[:, 1]"
   ]
  },
  {
   "cell_type": "code",
   "execution_count": 25,
   "metadata": {},
   "outputs": [
    {
     "name": "stdout",
     "output_type": "stream",
     "text": [
      "              precision    recall  f1-score   support\n",
      "\n",
      "         0.0       0.69      0.95      0.80       219\n",
      "         1.0       0.31      0.05      0.09        98\n",
      "\n",
      "   micro avg       0.67      0.67      0.67       317\n",
      "   macro avg       0.50      0.50      0.44       317\n",
      "weighted avg       0.57      0.67      0.58       317\n",
      "\n"
     ]
    }
   ],
   "source": [
    "from sklearn.metrics import classification_report\n",
    "print(classification_report(y_test, y_pred_gb))"
   ]
  },
  {
   "cell_type": "code",
   "execution_count": 26,
   "metadata": {},
   "outputs": [
    {
     "data": {
      "image/png": "[encoded data removed]",
      "text/plain": [
       "<Figure size 432x432 with 1 Axes>"
      ]
     },
     "metadata": {
      "needs_background": "light"
     },
     "output_type": "display_data"
    }
   ],
   "source": [
    "# Compute ROC and AUC\n",
    "from sklearn.metrics import auc, roc_curve\n",
    "fpr, tpr, thresholds = roc_curve(y_true=y_test, y_score=y_prob_gb)\n",
    "auc_score = auc(fpr, tpr)\n",
    "\n",
    "moody.plot_roc(fpr, tpr, auc_score)"
   ]
  },
  {
   "cell_type": "markdown",
   "metadata": {},
   "source": [
    "So far we actually did not do anything. Fed 2 random numerical features to the model in order to see the baseline scores.\n",
    "\n",
    "- Baseline Estimator\n",
    "- Dummy Logistic Regresion\n",
    "- Dummy GB\n",
    "\n",
    "Now we will pay more attention to EDA and do some feature engineering in order to increase model performance.  \n",
    "\n",
    "I will try to frame most of the significant changes that increased the model performance.\n",
    "\n",
    "That logistic model looks disgusting, so lets make it beautiful."
   ]
  },
  {
   "cell_type": "markdown",
   "metadata": {},
   "source": [
    "### Pre - Feature Engineering Phase & More EDA\n",
    "\n",
    "### Corrolations\n",
    "#### Numericals"
   ]
  },
  {
   "cell_type": "code",
   "execution_count": 27,
   "metadata": {},
   "outputs": [
    {
     "data": {
      "text/plain": [
       "Amount            -0.008167\n",
       "Won                1.000000\n",
       "close_year         0.039993\n",
       "create_year        0.021259\n",
       "Registered_Days   -0.326850\n",
       "day               -0.593526\n",
       "week               0.058956\n",
       "month             -0.038386\n",
       "Name: Won, dtype: float64"
      ]
     },
     "execution_count": 27,
     "metadata": {},
     "output_type": "execute_result"
    }
   ],
   "source": [
    "df.corr().Won"
   ]
  },
  {
   "cell_type": "markdown",
   "metadata": {},
   "source": [
    "Amazing, the features that returns the higest corrolations are the engineered ones!\n",
    "\n",
    "-  Registered_Days\n",
    "- day\n",
    "\n",
    "They both stand for day and they are both corrolated with the target. What if this is an issue of multicolinearity?"
   ]
  },
  {
   "cell_type": "code",
   "execution_count": 28,
   "metadata": {},
   "outputs": [
    {
     "data": {
      "image/png": "[encoded data removed]",
      "text/plain": [
       "<Figure size 720x720 with 9 Axes>"
      ]
     },
     "metadata": {
      "needs_background": "light"
     },
     "output_type": "display_data"
    }
   ],
   "source": [
    "pd.scatter_matrix(df[['Registered_Days','day','Won']], alpha=0.2, figsize=(10, 10))\n",
    "plt.show()"
   ]
  },
  {
   "cell_type": "markdown",
   "metadata": {},
   "source": [
    "I see some slight collinearity there.\n",
    "\n",
    "Lets go wilder."
   ]
  },
  {
   "cell_type": "markdown",
   "metadata": {},
   "source": [
    "## Collinearity: Variance Inflation Factor\n",
    "\n",
    "https://en.wikipedia.org/wiki/Variance_inflation_factor"
   ]
  },
  {
   "cell_type": "code",
   "execution_count": 29,
   "metadata": {},
   "outputs": [
    {
     "data": {
      "text/html": [
       "<div>\n",
       "<style>\n",
       "    .dataframe thead tr:only-child th {\n",
       "        text-align: right;\n",
       "    }\n",
       "\n",
       "    .dataframe thead th {\n",
       "        text-align: left;\n",
       "    }\n",
       "\n",
       "    .dataframe tbody tr th {\n",
       "        vertical-align: top;\n",
       "    }\n",
       "</style>\n",
       "<table border=\"1\" class=\"dataframe\">\n",
       "  <thead>\n",
       "    <tr style=\"text-align: right;\">\n",
       "      <th></th>\n",
       "      <th>Amount</th>\n",
       "      <th>Won</th>\n",
       "      <th>close_year</th>\n",
       "      <th>create_year</th>\n",
       "      <th>Registered_Days</th>\n",
       "      <th>day</th>\n",
       "      <th>week</th>\n",
       "      <th>month</th>\n",
       "    </tr>\n",
       "  </thead>\n",
       "  <tbody>\n",
       "    <tr>\n",
       "      <th>0</th>\n",
       "      <td>18000</td>\n",
       "      <td>1.0</td>\n",
       "      <td>2018</td>\n",
       "      <td>2018</td>\n",
       "      <td>19.0</td>\n",
       "      <td>5</td>\n",
       "      <td>45</td>\n",
       "      <td>11</td>\n",
       "    </tr>\n",
       "    <tr>\n",
       "      <th>1</th>\n",
       "      <td>30000</td>\n",
       "      <td>0.0</td>\n",
       "      <td>2018</td>\n",
       "      <td>2018</td>\n",
       "      <td>46.0</td>\n",
       "      <td>30</td>\n",
       "      <td>26</td>\n",
       "      <td>6</td>\n",
       "    </tr>\n",
       "    <tr>\n",
       "      <th>2</th>\n",
       "      <td>18000</td>\n",
       "      <td>0.0</td>\n",
       "      <td>2017</td>\n",
       "      <td>2017</td>\n",
       "      <td>15.0</td>\n",
       "      <td>17</td>\n",
       "      <td>11</td>\n",
       "      <td>3</td>\n",
       "    </tr>\n",
       "    <tr>\n",
       "      <th>3</th>\n",
       "      <td>18000</td>\n",
       "      <td>1.0</td>\n",
       "      <td>2017</td>\n",
       "      <td>2017</td>\n",
       "      <td>0.0</td>\n",
       "      <td>28</td>\n",
       "      <td>52</td>\n",
       "      <td>12</td>\n",
       "    </tr>\n",
       "    <tr>\n",
       "      <th>4</th>\n",
       "      <td>30000</td>\n",
       "      <td>0.0</td>\n",
       "      <td>2018</td>\n",
       "      <td>2018</td>\n",
       "      <td>38.0</td>\n",
       "      <td>27</td>\n",
       "      <td>17</td>\n",
       "      <td>4</td>\n",
       "    </tr>\n",
       "  </tbody>\n",
       "</table>\n",
       "</div>"
      ],
      "text/plain": [
       "   Amount  Won  close_year  create_year  Registered_Days  day  week  month\n",
       "0   18000  1.0        2018         2018             19.0    5    45     11\n",
       "1   30000  0.0        2018         2018             46.0   30    26      6\n",
       "2   18000  0.0        2017         2017             15.0   17    11      3\n",
       "3   18000  1.0        2017         2017              0.0   28    52     12\n",
       "4   30000  0.0        2018         2018             38.0   27    17      4"
      ]
     },
     "execution_count": 29,
     "metadata": {},
     "output_type": "execute_result"
    }
   ],
   "source": [
    "from statsmodels.stats.outliers_influence import variance_inflation_factor\n",
    "\n",
    "df_vif = df.copy()\n",
    "df_vif.dropna()\n",
    "df_vif = df_vif._get_numeric_data() #drop non-numeric cols\n",
    "\n",
    "df_vif.head()"
   ]
  },
  {
   "cell_type": "code",
   "execution_count": 30,
   "metadata": {},
   "outputs": [],
   "source": [
    "y = df_vif['Won']\n",
    "X = df_vif.drop(['Won'],axis = 1)"
   ]
  },
  {
   "cell_type": "code",
   "execution_count": 31,
   "metadata": {},
   "outputs": [],
   "source": [
    "# For each X, calculate VIF and save in dataframe\n",
    "vif = pd.DataFrame()\n",
    "vif[\"VIF Factor\"] = [variance_inflation_factor(X.values, i) for i in range(X.shape[1])]\n",
    "vif[\"features\"] = X.columns"
   ]
  },
  {
   "cell_type": "code",
   "execution_count": 32,
   "metadata": {},
   "outputs": [
    {
     "data": {
      "text/html": [
       "<div>\n",
       "<style>\n",
       "    .dataframe thead tr:only-child th {\n",
       "        text-align: right;\n",
       "    }\n",
       "\n",
       "    .dataframe thead th {\n",
       "        text-align: left;\n",
       "    }\n",
       "\n",
       "    .dataframe tbody tr th {\n",
       "        vertical-align: top;\n",
       "    }\n",
       "</style>\n",
       "<table border=\"1\" class=\"dataframe\">\n",
       "  <thead>\n",
       "    <tr style=\"text-align: right;\">\n",
       "      <th></th>\n",
       "      <th>VIF Factor</th>\n",
       "      <th>features</th>\n",
       "    </tr>\n",
       "  </thead>\n",
       "  <tbody>\n",
       "    <tr>\n",
       "      <th>0</th>\n",
       "      <td>2.0</td>\n",
       "      <td>Amount</td>\n",
       "    </tr>\n",
       "    <tr>\n",
       "      <th>1</th>\n",
       "      <td>123765753.6</td>\n",
       "      <td>close_year</td>\n",
       "    </tr>\n",
       "    <tr>\n",
       "      <th>2</th>\n",
       "      <td>123789834.1</td>\n",
       "      <td>create_year</td>\n",
       "    </tr>\n",
       "    <tr>\n",
       "      <th>3</th>\n",
       "      <td>3.1</td>\n",
       "      <td>Registered_Days</td>\n",
       "    </tr>\n",
       "    <tr>\n",
       "      <th>4</th>\n",
       "      <td>9.8</td>\n",
       "      <td>day</td>\n",
       "    </tr>\n",
       "    <tr>\n",
       "      <th>5</th>\n",
       "      <td>7.0</td>\n",
       "      <td>week</td>\n",
       "    </tr>\n",
       "    <tr>\n",
       "      <th>6</th>\n",
       "      <td>9.6</td>\n",
       "      <td>month</td>\n",
       "    </tr>\n",
       "  </tbody>\n",
       "</table>\n",
       "</div>"
      ],
      "text/plain": [
       "    VIF Factor         features\n",
       "0          2.0           Amount\n",
       "1  123765753.6       close_year\n",
       "2  123789834.1      create_year\n",
       "3          3.1  Registered_Days\n",
       "4          9.8              day\n",
       "5          7.0             week\n",
       "6          9.6            month"
      ]
     },
     "execution_count": 32,
     "metadata": {},
     "output_type": "execute_result"
    }
   ],
   "source": [
    "vif.round(1)  #those years..."
   ]
  },
  {
   "cell_type": "markdown",
   "metadata": {},
   "source": [
    "\n",
    "Collinear Features\n",
    "\n",
    "- close_year & create_year\n",
    "- day & month & week\n",
    "\n",
    "As can be see some features' VIF factors are close to each other. The reason for hat is they stand for the similar distributions.\n",
    "\n",
    "**Next:** Try different combinations of features in order to reach a acceptable range of VIF factors."
   ]
  },
  {
   "cell_type": "code",
   "execution_count": 33,
   "metadata": {},
   "outputs": [
    {
     "data": {
      "text/html": [
       "<div>\n",
       "<style>\n",
       "    .dataframe thead tr:only-child th {\n",
       "        text-align: right;\n",
       "    }\n",
       "\n",
       "    .dataframe thead th {\n",
       "        text-align: left;\n",
       "    }\n",
       "\n",
       "    .dataframe tbody tr th {\n",
       "        vertical-align: top;\n",
       "    }\n",
       "</style>\n",
       "<table border=\"1\" class=\"dataframe\">\n",
       "  <thead>\n",
       "    <tr style=\"text-align: right;\">\n",
       "      <th></th>\n",
       "      <th>VIF Factor</th>\n",
       "      <th>features</th>\n",
       "    </tr>\n",
       "  </thead>\n",
       "  <tbody>\n",
       "    <tr>\n",
       "      <th>0</th>\n",
       "      <td>1.8</td>\n",
       "      <td>Amount</td>\n",
       "    </tr>\n",
       "    <tr>\n",
       "      <th>1</th>\n",
       "      <td>2.2</td>\n",
       "      <td>Registered_Days</td>\n",
       "    </tr>\n",
       "    <tr>\n",
       "      <th>2</th>\n",
       "      <td>4.9</td>\n",
       "      <td>day</td>\n",
       "    </tr>\n",
       "    <tr>\n",
       "      <th>3</th>\n",
       "      <td>4.0</td>\n",
       "      <td>month</td>\n",
       "    </tr>\n",
       "  </tbody>\n",
       "</table>\n",
       "</div>"
      ],
      "text/plain": [
       "   VIF Factor         features\n",
       "0         1.8           Amount\n",
       "1         2.2  Registered_Days\n",
       "2         4.9              day\n",
       "3         4.0            month"
      ]
     },
     "execution_count": 33,
     "metadata": {},
     "output_type": "execute_result"
    }
   ],
   "source": [
    "y = df_vif['Won']\n",
    "X = df_vif.drop(['Won','create_year','close_year','week'],axis = 1)\n",
    "\n",
    "# For each X, calculate VIF and save in dataframe\n",
    "vif = pd.DataFrame()\n",
    "vif[\"VIF Factor\"] = [variance_inflation_factor(X.values, i) for i in range(X.shape[1])]\n",
    "vif[\"features\"] = X.columns\n",
    "\n",
    "vif.round(1) "
   ]
  },
  {
   "cell_type": "markdown",
   "metadata": {},
   "source": [
    "Proud of my generated feaures so far;\n",
    "\n",
    "- registered_days\n",
    "- day\n",
    "- month\n",
    "\n",
    "\n",
    "\n",
    "althought there is some collinearity it won't hurt the model performance at this point.\n",
    "\n",
    "**Logistic Regression: ['Registered_Days','day']**"
   ]
  },
  {
   "cell_type": "code",
   "execution_count": 34,
   "metadata": {},
   "outputs": [
    {
     "name": "stdout",
     "output_type": "stream",
     "text": [
      "Accuracy of logistic regression classifier on test set: 0.81\n"
     ]
    }
   ],
   "source": [
    "from sklearn.linear_model import LogisticRegression\n",
    "from sklearn import metrics\n",
    "\n",
    "y = df_vif['Won']\n",
    "X = df_vif[['Registered_Days','day']]\n",
    "\n",
    "\n",
    "X_train, X_test, y_train, y_test = train_test_split(X,y, test_size=0.3, random_state=45)\n",
    "\n",
    "logreg = LogisticRegression()\n",
    "logreg.fit(X_train, y_train)\n",
    "\n",
    "y_pred = logreg.predict(X_test)\n",
    "print('Accuracy of logistic regression classifier on test set: {:.2f}'.format(logreg.score(X_test, y_test)))\n",
    "y_prob = logreg.predict_proba(X_test)[:, 1]"
   ]
  },
  {
   "cell_type": "code",
   "execution_count": 35,
   "metadata": {},
   "outputs": [
    {
     "name": "stdout",
     "output_type": "stream",
     "text": [
      "              precision    recall  f1-score   support\n",
      "\n",
      "         0.0       0.81      0.95      0.88       219\n",
      "         1.0       0.82      0.51      0.63        98\n",
      "\n",
      "   micro avg       0.81      0.81      0.81       317\n",
      "   macro avg       0.82      0.73      0.75       317\n",
      "weighted avg       0.81      0.81      0.80       317\n",
      "\n"
     ]
    }
   ],
   "source": [
    "from sklearn.metrics import classification_report\n",
    "print(classification_report(y_test, y_pred))"
   ]
  },
  {
   "cell_type": "markdown",
   "metadata": {},
   "source": [
    "\n",
    "**Improvement in Scoring Metrics:**\n",
    "\n",
    "- Accuracy:          69% --> 81%\n",
    "- 1.0 predictions: 0 0 0 --> 0.82      0.51      0.63  \n",
    "\n",
    "**Changes**\n",
    "\n",
    "- Generated 2 numerical features from create_day and close_day\n",
    "- They are highly corrolated with the target\n",
    "- Took some features out in accordance to VIF\n",
    "- trained them to the logistic model"
   ]
  },
  {
   "cell_type": "markdown",
   "metadata": {},
   "source": [
    "## Normalization & Transformations"
   ]
  },
  {
   "cell_type": "markdown",
   "metadata": {},
   "source": [
    "**Registered Days**"
   ]
  },
  {
   "cell_type": "code",
   "execution_count": 36,
   "metadata": {},
   "outputs": [
    {
     "name": "stdout",
     "output_type": "stream",
     "text": [
      "count    1056.000000\n",
      "mean       39.926136\n",
      "std        35.905065\n",
      "min         0.000000\n",
      "25%        11.000000\n",
      "50%        33.000000\n",
      "75%        61.000000\n",
      "max       259.000000\n",
      "Name: Registered_Days, dtype: float64\n"
     ]
    },
    {
     "data": {
      "image/png": "[encoded data removed]",
      "text/plain": [
       "<Figure size 432x288 with 1 Axes>"
      ]
     },
     "metadata": {
      "needs_background": "light"
     },
     "output_type": "display_data"
    }
   ],
   "source": [
    "df_vif.Registered_Days.hist() # we don't do that here.\n",
    "print(df_vif.Registered_Days.describe()) #From 75% - 61 to max - 259. Thats not ideal at all."
   ]
  },
  {
   "cell_type": "markdown",
   "metadata": {},
   "source": [
    "Our most important feature is highly skewed. Although it already contributed a lot to the model performance, we can make it contribute even more by transforming it to a normal distribution."
   ]
  },
  {
   "cell_type": "markdown",
   "metadata": {},
   "source": [
    "**day**"
   ]
  },
  {
   "cell_type": "code",
   "execution_count": 37,
   "metadata": {},
   "outputs": [
    {
     "name": "stdout",
     "output_type": "stream",
     "text": [
      "count    1056.000000\n",
      "mean       24.627841\n",
      "std         9.089066\n",
      "min         1.000000\n",
      "25%        20.000000\n",
      "50%        30.000000\n",
      "75%        31.000000\n",
      "max        31.000000\n",
      "Name: day, dtype: float64\n"
     ]
    },
    {
     "data": {
      "text/plain": [
       "<matplotlib.axes._subplots.AxesSubplot at 0x112922860>"
      ]
     },
     "execution_count": 37,
     "metadata": {},
     "output_type": "execute_result"
    },
    {
     "data": {
      "image/png": "[encoded data removed]",
      "text/plain": [
       "<Figure size 432x288 with 1 Axes>"
      ]
     },
     "metadata": {
      "needs_background": "light"
     },
     "output_type": "display_data"
    }
   ],
   "source": [
    "print(df_vif.day.describe()) #75% - 31 and max - 31? That shall change.\n",
    "df_vif.day.hist() # and you, no we don't do you here as well."
   ]
  },
  {
   "cell_type": "markdown",
   "metadata": {},
   "source": [
    "**Log Transform** : Registered_Days_Log"
   ]
  },
  {
   "cell_type": "code",
   "execution_count": 38,
   "metadata": {},
   "outputs": [],
   "source": [
    "df_vif['Registered_Days_Log'] = np.log((1+ df_vif['Registered_Days']))"
   ]
  },
  {
   "cell_type": "code",
   "execution_count": 39,
   "metadata": {},
   "outputs": [
    {
     "name": "stdout",
     "output_type": "stream",
     "text": [
      "count    1056.000000\n",
      "mean        3.180736\n",
      "std         1.243377\n",
      "min         0.000000\n",
      "25%         2.484907\n",
      "50%         3.526361\n",
      "75%         4.127134\n",
      "max         5.560682\n",
      "Name: Registered_Days_Log, dtype: float64\n"
     ]
    },
    {
     "data": {
      "text/plain": [
       "<matplotlib.axes._subplots.AxesSubplot at 0x1a18cb5e80>"
      ]
     },
     "execution_count": 39,
     "metadata": {},
     "output_type": "execute_result"
    },
    {
     "data": {
      "image/png": "[encoded data removed]",
      "text/plain": [
       "<Figure size 432x288 with 1 Axes>"
      ]
     },
     "metadata": {
      "needs_background": "light"
     },
     "output_type": "display_data"
    }
   ],
   "source": [
    "print(df_vif.Registered_Days_Log.describe())\n",
    "df_vif.Registered_Days_Log.hist() #beautiful"
   ]
  },
  {
   "cell_type": "markdown",
   "metadata": {},
   "source": [
    "**Log Transform** : day"
   ]
  },
  {
   "cell_type": "code",
   "execution_count": 40,
   "metadata": {},
   "outputs": [
    {
     "data": {
      "text/plain": [
       "<matplotlib.axes._subplots.AxesSubplot at 0x1a18c8fd30>"
      ]
     },
     "execution_count": 40,
     "metadata": {},
     "output_type": "execute_result"
    },
    {
     "data": {
      "image/png": "[encoded data removed]",
      "text/plain": [
       "<Figure size 432x288 with 1 Axes>"
      ]
     },
     "metadata": {
      "needs_background": "light"
     },
     "output_type": "display_data"
    }
   ],
   "source": [
    "df_vif['day_Log'] = np.log((1+ df_vif['day']))\n",
    "df_vif.day_Log.hist()"
   ]
  },
  {
   "cell_type": "markdown",
   "metadata": {},
   "source": [
    "Day_log... Get out of here.\n",
    "\n",
    "All I wanted is that normal curve."
   ]
  },
  {
   "cell_type": "markdown",
   "metadata": {},
   "source": [
    "**Percentile Linnearization** : day"
   ]
  },
  {
   "cell_type": "code",
   "execution_count": 41,
   "metadata": {},
   "outputs": [
    {
     "data": {
      "text/plain": [
       "<matplotlib.axes._subplots.AxesSubplot at 0x1128feeb8>"
      ]
     },
     "execution_count": 41,
     "metadata": {},
     "output_type": "execute_result"
    },
    {
     "data": {
      "image/png": "[encoded data removed]",
      "text/plain": [
       "<Figure size 432x288 with 1 Axes>"
      ]
     },
     "metadata": {
      "needs_background": "light"
     },
     "output_type": "display_data"
    }
   ],
   "source": [
    "size = len(df_vif.day) - 1\n",
    "\n",
    "df_vif['day_pl'] = df_vif.day.rank(method = 'min').apply(lambda x : (x-1)/size)\n",
    "\n",
    "df_vif['day_pl'].hist()"
   ]
  },
  {
   "cell_type": "markdown",
   "metadata": {},
   "source": [
    "day, even your mother doesn't like you now."
   ]
  },
  {
   "cell_type": "markdown",
   "metadata": {},
   "source": [
    "**Log Max Root:** day"
   ]
  },
  {
   "cell_type": "code",
   "execution_count": 42,
   "metadata": {},
   "outputs": [],
   "source": [
    "log_max_root = np.log(df_vif.day.max())\n",
    "df_vif['day_log_maxroot'] = df_vif.day ** (1/log_max_root)"
   ]
  },
  {
   "cell_type": "code",
   "execution_count": 43,
   "metadata": {},
   "outputs": [
    {
     "data": {
      "text/plain": [
       "<matplotlib.axes._subplots.AxesSubplot at 0x1a18d91c88>"
      ]
     },
     "execution_count": 43,
     "metadata": {},
     "output_type": "execute_result"
    },
    {
     "data": {
      "image/png": "[encoded data removed]",
      "text/plain": [
       "<Figure size 432x288 with 1 Axes>"
      ]
     },
     "metadata": {
      "needs_background": "light"
     },
     "output_type": "display_data"
    }
   ],
   "source": [
    "df_vif.day_log_maxroot.hist()"
   ]
  },
  {
   "cell_type": "markdown",
   "metadata": {},
   "source": [
    "day..\n",
    "\n",
    "It is my turn: I will categorize the days based on their corrolations with the target."
   ]
  },
  {
   "cell_type": "markdown",
   "metadata": {},
   "source": [
    "**Categorize days based on corrolations**"
   ]
  },
  {
   "cell_type": "code",
   "execution_count": 44,
   "metadata": {},
   "outputs": [],
   "source": [
    "df_vif_backup = df_vif.copy()"
   ]
  },
  {
   "cell_type": "code",
   "execution_count": 45,
   "metadata": {},
   "outputs": [],
   "source": [
    "def day_slice(x):\n",
    "    day_hot = [18,1,5]\n",
    "#     day_warm = \n",
    "    day_meh =[29,28,24,22,20,19,16,7,3]\n",
    "    day_cold = [30,31]\n",
    "    \n",
    "    if x in day_hot:\n",
    "        return \"day_hot\"\n",
    "    elif x in day_meh:\n",
    "        return 'day_meh'\n",
    "    elif x in day_cold:\n",
    "        return 'day_cold'\n",
    "    else:\n",
    "        return 'day_warm'"
   ]
  },
  {
   "cell_type": "code",
   "execution_count": 46,
   "metadata": {},
   "outputs": [],
   "source": [
    "df_vif['day_corrolations'] = df_vif.day.map(day_slice)\n",
    "df_vif = fun.one_hot_dummy(df_vif, ['day_corrolations'])"
   ]
  },
  {
   "cell_type": "markdown",
   "metadata": {},
   "source": [
    "**Logistic Regression: **\n",
    "- Log Transform: Registered_Days\n",
    "- day_percentile_linearization"
   ]
  },
  {
   "cell_type": "code",
   "execution_count": 47,
   "metadata": {},
   "outputs": [
    {
     "name": "stdout",
     "output_type": "stream",
     "text": [
      "Accuracy of logistic regression classifier on test set: 0.83\n"
     ]
    }
   ],
   "source": [
    "from sklearn.linear_model import LogisticRegression\n",
    "from sklearn import metrics\n",
    "\n",
    "y = df_vif['Won']\n",
    "X = df_vif[['Registered_Days_Log','day_pl']]\n",
    "\n",
    "\n",
    "X_train, X_test, y_train, y_test = train_test_split(X,y, test_size=0.3, random_state=45)\n",
    "\n",
    "logreg = LogisticRegression()\n",
    "logreg.fit(X_train, y_train)\n",
    "\n",
    "y_pred = logreg.predict(X_test)\n",
    "print('Accuracy of logistic regression classifier on test set: {:.2f}'.format(logreg.score(X_test, y_test)))\n",
    "y_prob = logreg.predict_proba(X_test)[:, 1]"
   ]
  },
  {
   "cell_type": "code",
   "execution_count": 48,
   "metadata": {},
   "outputs": [
    {
     "name": "stdout",
     "output_type": "stream",
     "text": [
      "              precision    recall  f1-score   support\n",
      "\n",
      "         0.0       0.83      0.95      0.88       219\n",
      "         1.0       0.83      0.55      0.66        98\n",
      "\n",
      "   micro avg       0.83      0.83      0.83       317\n",
      "   macro avg       0.83      0.75      0.77       317\n",
      "weighted avg       0.83      0.83      0.82       317\n",
      "\n"
     ]
    }
   ],
   "source": [
    "from sklearn.metrics import classification_report\n",
    "print(classification_report(y_test, y_pred))"
   ]
  },
  {
   "cell_type": "markdown",
   "metadata": {},
   "source": [
    "**Improvement in Scoring Metrics:**\n",
    "\n",
    "- Accuracy:          81% --> 83%\n",
    "- 0.0 predictions: 0.81      0.95      0.88 --> 0.83      0.95      0.88\n",
    "- 1.0 predictions: 0.82      0.51      0.63 --> 0.83      0.55      0.66\n",
    "\n",
    "**Changes**\n",
    "\n",
    "- Registered_days_log (log transform)\n",
    "- day percentile linearization\n"
   ]
  },
  {
   "cell_type": "markdown",
   "metadata": {},
   "source": [
    "**Logistic Regression: **\n",
    "- Log Transform: Registered_Days\n",
    "- day   (grouped with respect to their signal vs Won)"
   ]
  },
  {
   "cell_type": "code",
   "execution_count": 49,
   "metadata": {},
   "outputs": [
    {
     "name": "stdout",
     "output_type": "stream",
     "text": [
      "Accuracy of logistic regression classifier on test set: 0.86\n"
     ]
    }
   ],
   "source": [
    "from sklearn.linear_model import LogisticRegression\n",
    "from sklearn import metrics\n",
    "\n",
    "y = df_vif['Won']\n",
    "X = df_vif[['Registered_Days_Log','day_cold', 'day_hot', 'day_meh','day_warm']]\n",
    "\n",
    "\n",
    "X_train, X_test, y_train, y_test = train_test_split(X,y, test_size=0.3, random_state=45)\n",
    "\n",
    "logreg = LogisticRegression()\n",
    "logreg.fit(X_train, y_train)\n",
    "\n",
    "y_pred = logreg.predict(X_test)\n",
    "print('Accuracy of logistic regression classifier on test set: {:.2f}'.format(logreg.score(X_test, y_test)))\n",
    "y_prob = logreg.predict_proba(X_test)[:, 1]"
   ]
  },
  {
   "cell_type": "code",
   "execution_count": 50,
   "metadata": {},
   "outputs": [
    {
     "name": "stdout",
     "output_type": "stream",
     "text": [
      "              precision    recall  f1-score   support\n",
      "\n",
      "         0.0       0.87      0.94      0.90       219\n",
      "         1.0       0.84      0.68      0.75        98\n",
      "\n",
      "   micro avg       0.86      0.86      0.86       317\n",
      "   macro avg       0.85      0.81      0.83       317\n",
      "weighted avg       0.86      0.86      0.86       317\n",
      "\n"
     ]
    }
   ],
   "source": [
    "from sklearn.metrics import classification_report\n",
    "print(classification_report(y_test, y_pred))"
   ]
  },
  {
   "cell_type": "markdown",
   "metadata": {},
   "source": [
    "**Improvement in Scoring Metrics:**\n",
    "\n",
    "- Accuracy:          83% --> 86%\n",
    "- 0.0 predictions: 0.83      0.95      0.88 --> 0.87      0.94      0.90 \n",
    "- 1.0 predictions: 0.83      0.55      0.66 --> 0.84      0.68      0.75 \n",
    "\n",
    "Noticed that imprvement of 1.0 recall score?\n",
    "\n",
    "**Changes**\n",
    "\n",
    "- Registered_days_log (log transform)\n",
    "- day percentile linearization\n"
   ]
  },
  {
   "cell_type": "markdown",
   "metadata": {},
   "source": [
    "**Observations on Best Performing Logistic Model So Far:**\n",
    "\n",
    "2 major features with the highest correlations have been used in order to predict Won == 0.\n",
    "\n",
    "- Registered_Days_Log\n",
    "- dummy variables of the day in accordance with heatmap\n",
    "\n",
    "Result: an increase form overfit 67% accuracy to a fine-performing model with 86% accuracy.\n",
    "\n",
    "I want to see the change"
   ]
  },
  {
   "cell_type": "code",
   "execution_count": 51,
   "metadata": {},
   "outputs": [
    {
     "data": {
      "image/png": "[encoded data removed]",
      "text/plain": [
       "<Figure size 432x432 with 1 Axes>"
      ]
     },
     "metadata": {
      "needs_background": "light"
     },
     "output_type": "display_data"
    }
   ],
   "source": [
    "# Compute ROC and AUC\n",
    "from sklearn.metrics import auc, roc_curve\n",
    "fpr, tpr, thresholds = roc_curve(y_true=y_test, y_score=y_prob)\n",
    "auc_score = auc(fpr, tpr)\n",
    "\n",
    "moody.plot_roc(fpr, tpr, auc_score)"
   ]
  },
  {
   "cell_type": "markdown",
   "metadata": {},
   "source": [
    "### Add Month"
   ]
  },
  {
   "cell_type": "code",
   "execution_count": 52,
   "metadata": {},
   "outputs": [
    {
     "name": "stdout",
     "output_type": "stream",
     "text": [
      "Accuracy of logistic regression classifier on test set: 0.88\n"
     ]
    }
   ],
   "source": [
    "from sklearn.linear_model import LogisticRegression\n",
    "from sklearn import metrics\n",
    "\n",
    "y = df_vif['Won']\n",
    "X = df_vif[['Registered_Days_Log','day_cold', 'day_hot', 'day_meh','day_warm','month']]\n",
    "\n",
    "\n",
    "X_train, X_test, y_train, y_test = train_test_split(X,y, test_size=0.3, random_state=45)\n",
    "\n",
    "logreg = LogisticRegression()\n",
    "logreg.fit(X_train, y_train)\n",
    "\n",
    "y_pred = logreg.predict(X_test)\n",
    "print('Accuracy of logistic regression classifier on test set: {:.2f}'.format(logreg.score(X_test, y_test)))\n",
    "y_prob = logreg.predict_proba(X_test)[:, 1]"
   ]
  },
  {
   "cell_type": "code",
   "execution_count": 53,
   "metadata": {},
   "outputs": [
    {
     "name": "stdout",
     "output_type": "stream",
     "text": [
      "              precision    recall  f1-score   support\n",
      "\n",
      "         0.0       0.88      0.95      0.91       219\n",
      "         1.0       0.86      0.72      0.78        98\n",
      "\n",
      "   micro avg       0.88      0.88      0.88       317\n",
      "   macro avg       0.87      0.83      0.85       317\n",
      "weighted avg       0.88      0.88      0.87       317\n",
      "\n"
     ]
    }
   ],
   "source": [
    "from sklearn.metrics import classification_report\n",
    "print(classification_report(y_test, y_pred))"
   ]
  },
  {
   "cell_type": "markdown",
   "metadata": {},
   "source": [
    "Before:\n",
    "\n",
    "\n",
    "              precision    recall  f1-score   support\n",
    "\n",
    "         0.0       0.87      0.94      0.90       219\n",
    "         1.0       0.84      0.68      0.75        98\n",
    "\n",
    "\n",
    "\n",
    "\n",
    "accuracy: 86% --> 88%\n",
    "\n",
    "**Changes:** Added month, the third strongest predictor.\n",
    "\n",
    "I want to have a look at this one, once again."
   ]
  },
  {
   "cell_type": "code",
   "execution_count": 54,
   "metadata": {},
   "outputs": [
    {
     "data": {
      "image/png": "[encoded data removed]",
      "text/plain": [
       "<Figure size 432x288 with 1 Axes>"
      ]
     },
     "metadata": {
      "needs_background": "light"
     },
     "output_type": "display_data"
    }
   ],
   "source": [
    "fun.hist_distribution(df_vif,'month')"
   ]
  },
  {
   "cell_type": "markdown",
   "metadata": {},
   "source": [
    "**Dummy Month In Accordance to Heatmap**"
   ]
  },
  {
   "cell_type": "code",
   "execution_count": 55,
   "metadata": {},
   "outputs": [],
   "source": [
    "def month_slice(x):\n",
    "    month_hot = [5,8,11]\n",
    "    month_warm = [1,4,7,10,2]\n",
    "    \n",
    "    if x in month_hot:\n",
    "        return 'month_hot'\n",
    "    elif x in month_warm:\n",
    "        return 'month_warm'\n",
    "    else:\n",
    "        return 'month_cold'"
   ]
  },
  {
   "cell_type": "code",
   "execution_count": 56,
   "metadata": {},
   "outputs": [],
   "source": [
    "df_vif['month_corr'] = df_vif.month.map(month_slice)\n",
    "df_vif = fun.one_hot_dummy(df_vif, ['month_corr'])"
   ]
  },
  {
   "cell_type": "code",
   "execution_count": 57,
   "metadata": {},
   "outputs": [
    {
     "data": {
      "text/plain": [
       "Index(['Amount', 'Won', 'close_year', 'create_year', 'Registered_Days', 'day',\n",
       "       'week', 'month', 'Registered_Days_Log', 'day_Log', 'day_pl',\n",
       "       'day_log_maxroot', 'day_cold', 'day_hot', 'day_meh', 'day_warm',\n",
       "       'month_cold', 'month_hot', 'month_warm'],\n",
       "      dtype='object')"
      ]
     },
     "execution_count": 57,
     "metadata": {},
     "output_type": "execute_result"
    }
   ],
   "source": [
    "df_vif.columns"
   ]
  },
  {
   "cell_type": "code",
   "execution_count": 58,
   "metadata": {},
   "outputs": [
    {
     "name": "stdout",
     "output_type": "stream",
     "text": [
      "Accuracy of logistic regression classifier on test set: 0.87\n"
     ]
    }
   ],
   "source": [
    "from sklearn.linear_model import LogisticRegression\n",
    "from sklearn import metrics\n",
    "\n",
    "y = df_vif['Won']\n",
    "X = df_vif[['Registered_Days_Log','day_cold', 'day_hot', 'day_meh','day_warm',\n",
    "           'month_cold', 'month_hot', 'month_warm']]\n",
    "\n",
    "\n",
    "X_train, X_test, y_train, y_test = train_test_split(X,y, test_size=0.3, random_state=45)\n",
    "\n",
    "logreg = LogisticRegression()\n",
    "logreg.fit(X_train, y_train)\n",
    "\n",
    "y_pred = logreg.predict(X_test)\n",
    "print('Accuracy of logistic regression classifier on test set: {:.2f}'.format(logreg.score(X_test, y_test)))\n",
    "y_prob = logreg.predict_proba(X_test)[:, 1]"
   ]
  },
  {
   "cell_type": "markdown",
   "metadata": {},
   "source": [
    "\n",
    "Okay that did not work well with this one:)\n",
    "\n",
    "Accuracy: 88% --> 87%\n",
    "\n",
    "Changes:\n",
    "\n",
    "- group months based on corrolations and dummy those groups\n",
    "\n",
    "\n",
    "**NOTES:**\n",
    "\n",
    "At this stage I played with Amount although it is a week predictor. Wanted to create something useful out of it because well It is money.\n",
    "\n",
    "Amount original:"
   ]
  },
  {
   "cell_type": "code",
   "execution_count": 59,
   "metadata": {},
   "outputs": [
    {
     "data": {
      "image/png": "[encoded data removed]",
      "text/plain": [
       "<Figure size 432x288 with 1 Axes>"
      ]
     },
     "metadata": {
      "needs_background": "light"
     },
     "output_type": "display_data"
    }
   ],
   "source": [
    "fun.hist_distribution(df_vif,'Amount')"
   ]
  },
  {
   "cell_type": "markdown",
   "metadata": {},
   "source": [
    "- Percentile Linearization on Amount: Failure( data became distorted)\n",
    "- Log Transform on Amount: (even more distorted)\n",
    "- Sigmoid Function on Amount: ( I don't know what I was thinking, well certainly it did not work)\n",
    "- Final Try adaptive binning a varity number of bins (model accuracy decreased by 1 %)\n",
    "\n",
    "### Bye amount, byeeee I had enough of you."
   ]
  },
  {
   "cell_type": "markdown",
   "metadata": {},
   "source": [
    "### More Categorical Features\n",
    "\n",
    "#### rank"
   ]
  },
  {
   "cell_type": "code",
   "execution_count": 60,
   "metadata": {},
   "outputs": [
    {
     "data": {
      "text/plain": [
       "0    rank_unknown\n",
       "1          rank_1\n",
       "2    rank_unknown\n",
       "3          rank_2\n",
       "4          rank_3\n",
       "Name: rank, dtype: object"
      ]
     },
     "execution_count": 60,
     "metadata": {},
     "output_type": "execute_result"
    }
   ],
   "source": [
    "df['rank'].head()"
   ]
  },
  {
   "cell_type": "markdown",
   "metadata": {},
   "source": [
    "2 options for \"rank\"\n",
    "\n",
    "- binarize it (this can be usefull for logistic regression as due to dimensionality issues).\n",
    "- categorize with respect to corrolations"
   ]
  },
  {
   "cell_type": "code",
   "execution_count": 61,
   "metadata": {},
   "outputs": [],
   "source": [
    "def binarize_rank(x):\n",
    "    if x == \"rank_unknown\":\n",
    "        return 1\n",
    "    else:\n",
    "        return 0\n",
    "    \n",
    "def categorize_rank(x):\n",
    "    if x ==\"rank_unknown\":\n",
    "        return \"rank_hot\"\n",
    "    elif x == \"rank_1\":\n",
    "        return \"rank_meh\"\n",
    "    else:\n",
    "        return \"rank_cold\""
   ]
  },
  {
   "cell_type": "code",
   "execution_count": 62,
   "metadata": {},
   "outputs": [],
   "source": [
    "df_vif['rank_binary'] = df['rank'].map(binarize_rank)\n",
    "df_vif['rank_corr'] = df['rank'].map(categorize_rank)"
   ]
  },
  {
   "cell_type": "code",
   "execution_count": 63,
   "metadata": {},
   "outputs": [],
   "source": [
    "df_vif = fun.one_hot_dummy(df_vif,['rank_corr'])"
   ]
  },
  {
   "cell_type": "code",
   "execution_count": 64,
   "metadata": {},
   "outputs": [
    {
     "data": {
      "text/plain": [
       "Index(['Amount', 'Won', 'close_year', 'create_year', 'Registered_Days', 'day',\n",
       "       'week', 'month', 'Registered_Days_Log', 'day_Log', 'day_pl',\n",
       "       'day_log_maxroot', 'day_cold', 'day_hot', 'day_meh', 'day_warm',\n",
       "       'month_cold', 'month_hot', 'month_warm', 'rank_binary', 'rank_cold',\n",
       "       'rank_hot', 'rank_meh'],\n",
       "      dtype='object')"
      ]
     },
     "execution_count": 64,
     "metadata": {},
     "output_type": "execute_result"
    }
   ],
   "source": [
    "df_vif.columns"
   ]
  },
  {
   "cell_type": "code",
   "execution_count": 65,
   "metadata": {},
   "outputs": [
    {
     "data": {
      "text/html": [
       "<div>\n",
       "<style>\n",
       "    .dataframe thead tr:only-child th {\n",
       "        text-align: right;\n",
       "    }\n",
       "\n",
       "    .dataframe thead th {\n",
       "        text-align: left;\n",
       "    }\n",
       "\n",
       "    .dataframe tbody tr th {\n",
       "        vertical-align: top;\n",
       "    }\n",
       "</style>\n",
       "<table border=\"1\" class=\"dataframe\">\n",
       "  <thead>\n",
       "    <tr style=\"text-align: right;\">\n",
       "      <th></th>\n",
       "      <th>rank_binary</th>\n",
       "      <th>rank_cold</th>\n",
       "      <th>rank_hot</th>\n",
       "      <th>rank_meh</th>\n",
       "      <th>Won</th>\n",
       "    </tr>\n",
       "  </thead>\n",
       "  <tbody>\n",
       "    <tr>\n",
       "      <th>rank_binary</th>\n",
       "      <td>1.000000</td>\n",
       "      <td>-0.437237</td>\n",
       "      <td>1.000000</td>\n",
       "      <td>-0.297535</td>\n",
       "      <td>0.166716</td>\n",
       "    </tr>\n",
       "    <tr>\n",
       "      <th>rank_cold</th>\n",
       "      <td>-0.437237</td>\n",
       "      <td>1.000000</td>\n",
       "      <td>-0.437237</td>\n",
       "      <td>-0.728522</td>\n",
       "      <td>-0.130397</td>\n",
       "    </tr>\n",
       "    <tr>\n",
       "      <th>rank_hot</th>\n",
       "      <td>1.000000</td>\n",
       "      <td>-0.437237</td>\n",
       "      <td>1.000000</td>\n",
       "      <td>-0.297535</td>\n",
       "      <td>0.166716</td>\n",
       "    </tr>\n",
       "    <tr>\n",
       "      <th>rank_meh</th>\n",
       "      <td>-0.297535</td>\n",
       "      <td>-0.728522</td>\n",
       "      <td>-0.297535</td>\n",
       "      <td>1.000000</td>\n",
       "      <td>0.011439</td>\n",
       "    </tr>\n",
       "    <tr>\n",
       "      <th>Won</th>\n",
       "      <td>0.166716</td>\n",
       "      <td>-0.130397</td>\n",
       "      <td>0.166716</td>\n",
       "      <td>0.011439</td>\n",
       "      <td>1.000000</td>\n",
       "    </tr>\n",
       "  </tbody>\n",
       "</table>\n",
       "</div>"
      ],
      "text/plain": [
       "             rank_binary  rank_cold  rank_hot  rank_meh       Won\n",
       "rank_binary     1.000000  -0.437237  1.000000 -0.297535  0.166716\n",
       "rank_cold      -0.437237   1.000000 -0.437237 -0.728522 -0.130397\n",
       "rank_hot        1.000000  -0.437237  1.000000 -0.297535  0.166716\n",
       "rank_meh       -0.297535  -0.728522 -0.297535  1.000000  0.011439\n",
       "Won             0.166716  -0.130397  0.166716  0.011439  1.000000"
      ]
     },
     "execution_count": 65,
     "metadata": {},
     "output_type": "execute_result"
    }
   ],
   "source": [
    "df_vif[['rank_binary','rank_cold', 'rank_hot', 'rank_meh','Won']].corr() #16% corr? I call that a supportive feature."
   ]
  },
  {
   "cell_type": "markdown",
   "metadata": {},
   "source": [
    "**Logistic Regression ADD RANK**"
   ]
  },
  {
   "cell_type": "code",
   "execution_count": 66,
   "metadata": {},
   "outputs": [
    {
     "name": "stdout",
     "output_type": "stream",
     "text": [
      "Accuracy of logistic regression classifier on test set: 0.87\n"
     ]
    }
   ],
   "source": [
    "from sklearn.linear_model import LogisticRegression\n",
    "from sklearn import metrics\n",
    "\n",
    "y = df_vif['Won']\n",
    "X = df_vif[['Registered_Days_Log','day_cold', 'day_hot', 'day_meh','day_warm',\n",
    "           'month','rank_binary']]\n",
    "\n",
    "\n",
    "X_train, X_test, y_train, y_test = train_test_split(X,y, test_size=0.3, random_state=45)\n",
    "\n",
    "logreg = LogisticRegression()\n",
    "logreg.fit(X_train, y_train)\n",
    "\n",
    "y_pred = logreg.predict(X_test)\n",
    "print('Accuracy of logistic regression classifier on test set: {:.2f}'.format(logreg.score(X_test, y_test)))\n",
    "y_prob = logreg.predict_proba(X_test)[:, 1]"
   ]
  },
  {
   "cell_type": "markdown",
   "metadata": {},
   "source": [
    "still lower than 0.88"
   ]
  },
  {
   "cell_type": "code",
   "execution_count": 67,
   "metadata": {},
   "outputs": [
    {
     "name": "stdout",
     "output_type": "stream",
     "text": [
      "Accuracy of logistic regression classifier on test set: 0.88\n"
     ]
    }
   ],
   "source": [
    "from sklearn.linear_model import LogisticRegression\n",
    "from sklearn import metrics\n",
    "\n",
    "y = df_vif['Won']\n",
    "X = df_vif[['Registered_Days_Log','day_cold', 'day_hot', 'day_meh','day_warm',\n",
    "           'month','rank_cold', 'rank_hot', 'rank_meh']]\n",
    "\n",
    "\n",
    "X_train, X_test, y_train, y_test = train_test_split(X,y, test_size=0.3, random_state=45)\n",
    "\n",
    "logreg = LogisticRegression()\n",
    "logreg.fit(X_train, y_train)\n",
    "\n",
    "y_pred = logreg.predict(X_test)\n",
    "print('Accuracy of logistic regression classifier on test set: {:.2f}'.format(logreg.score(X_test, y_test)))\n",
    "y_prob = logreg.predict_proba(X_test)[:, 1]"
   ]
  },
  {
   "cell_type": "markdown",
   "metadata": {},
   "source": [
    "\n",
    "- Same performance with more features. Although it didnt change a lot within the logistic regression, rankcategories may become more valuable predictors within ensamble models."
   ]
  },
  {
   "cell_type": "markdown",
   "metadata": {},
   "source": [
    "**Job Category** : Again I dummied them in accordance to their predictive power."
   ]
  },
  {
   "cell_type": "code",
   "execution_count": 68,
   "metadata": {},
   "outputs": [],
   "source": [
    "def group_jobs(x):\n",
    "    if x == \"n/a\":\n",
    "        return \"hot_jobs\"\n",
    "    elif x in ['Tech','Product','Other','Consulting']:\n",
    "        return \"warm_jobs\"\n",
    "    elif x in ['S & M','HR']:\n",
    "        return \"cold_jobs\"\n",
    "    elif x in ['BD','Culture','Owner_Ceo']:\n",
    "        return \"meh_jobs\"\n",
    "    else:\n",
    "        return \"slight_cold_jobs\""
   ]
  },
  {
   "cell_type": "code",
   "execution_count": 69,
   "metadata": {},
   "outputs": [],
   "source": [
    "df_vif['jobs'] = df.job_category.map(group_jobs)\n",
    "df_vif = fun.one_hot_dummy(df_vif,['jobs'])"
   ]
  },
  {
   "cell_type": "code",
   "execution_count": 70,
   "metadata": {},
   "outputs": [
    {
     "name": "stdout",
     "output_type": "stream",
     "text": [
      "Accuracy of logistic regression classifier on test set: 0.89\n"
     ]
    }
   ],
   "source": [
    "from sklearn.linear_model import LogisticRegression\n",
    "from sklearn import metrics\n",
    "\n",
    "y = df_vif['Won']\n",
    "X = df_vif[['Registered_Days_Log','day_cold', 'day_hot', 'day_meh','day_warm',\n",
    "           'month','cold_jobs', 'hot_jobs', 'meh_jobs', 'slight_cold_jobs', 'warm_jobs']]\n",
    "\n",
    "\n",
    "X_train, X_test, y_train, y_test = train_test_split(X,y, test_size=0.3, random_state=45)\n",
    "\n",
    "logreg = LogisticRegression()\n",
    "logreg.fit(X_train, y_train)\n",
    "\n",
    "y_pred = logreg.predict(X_test)\n",
    "print('Accuracy of logistic regression classifier on test set: {:.2f}'.format(logreg.score(X_test, y_test)))\n",
    "y_prob = logreg.predict_proba(X_test)[:, 1]"
   ]
  },
  {
   "cell_type": "code",
   "execution_count": 71,
   "metadata": {},
   "outputs": [
    {
     "name": "stdout",
     "output_type": "stream",
     "text": [
      "              precision    recall  f1-score   support\n",
      "\n",
      "         0.0       0.89      0.95      0.92       219\n",
      "         1.0       0.87      0.74      0.80        98\n",
      "\n",
      "   micro avg       0.89      0.89      0.89       317\n",
      "   macro avg       0.88      0.85      0.86       317\n",
      "weighted avg       0.89      0.89      0.88       317\n",
      "\n"
     ]
    }
   ],
   "source": [
    "from sklearn.metrics import classification_report\n",
    "print(classification_report(y_test, y_pred))"
   ]
  },
  {
   "cell_type": "markdown",
   "metadata": {},
   "source": [
    "Before:\n",
    "\n",
    "              precision    recall  f1-score   support\n",
    "\n",
    "         0.0       0.88      0.95      0.91       219\n",
    "         1.0       0.86      0.72      0.78        98\n",
    "         \n",
    " Accuracy: 88% --> 89%\n",
    " \n",
    " **Changes:**\n",
    " \n",
    "- Added: 'cold_jobs', 'hot_jobs', 'meh_jobs', 'slight_cold_jobs', 'warm_jobs'\n",
    " "
   ]
  },
  {
   "cell_type": "markdown",
   "metadata": {},
   "source": [
    "### Lead Groups: Dummy them in accordance to corrolations again."
   ]
  },
  {
   "cell_type": "code",
   "execution_count": 72,
   "metadata": {},
   "outputs": [],
   "source": [
    "def lead_heat(x):\n",
    "    if x == 'Existing Customer':\n",
    "        return  x\n",
    "    elif x in ['Google','MKTG']:\n",
    "        return \"google_mktg_lead\"\n",
    "    else:\n",
    "        return 'other_lead'"
   ]
  },
  {
   "cell_type": "code",
   "execution_count": 73,
   "metadata": {},
   "outputs": [],
   "source": [
    "df_vif['lead_group'] = df['lead_group'].map(lead_heat)\n",
    "df_vif = fun.one_hot_dummy(df_vif,['lead_group'])"
   ]
  },
  {
   "cell_type": "code",
   "execution_count": 74,
   "metadata": {},
   "outputs": [
    {
     "name": "stdout",
     "output_type": "stream",
     "text": [
      "Accuracy of logistic regression classifier on test set: 0.89\n"
     ]
    }
   ],
   "source": [
    "from sklearn.linear_model import LogisticRegression\n",
    "from sklearn import metrics\n",
    "\n",
    "y = df_vif['Won']\n",
    "X = df_vif[['Registered_Days_Log','day_cold', 'day_hot', 'day_meh','day_warm',\n",
    "           'month','cold_jobs', 'hot_jobs', 'meh_jobs', 'slight_cold_jobs', 'warm_jobs',\n",
    "           'Existing Customer', 'google_mktg_lead', 'other_lead']]\n",
    "\n",
    "\n",
    "X_train, X_test, y_train, y_test_log = train_test_split(X,y, test_size=0.33, random_state=45)\n",
    "\n",
    "logreg = LogisticRegression()\n",
    "logreg.fit(X_train, y_train)\n",
    "\n",
    "y_pred_log = logreg.predict(X_test)\n",
    "print('Accuracy of logistic regression classifier on test set: {:.2f}'.format(logreg.score(X_test, y_test_log)))\n",
    "y_prob_log = logreg.predict_proba(X_test)[:, 1]"
   ]
  },
  {
   "cell_type": "code",
   "execution_count": 75,
   "metadata": {},
   "outputs": [
    {
     "name": "stdout",
     "output_type": "stream",
     "text": [
      "              precision    recall  f1-score   support\n",
      "\n",
      "         0.0       0.90      0.95      0.92       241\n",
      "         1.0       0.87      0.76      0.81       108\n",
      "\n",
      "   micro avg       0.89      0.89      0.89       349\n",
      "   macro avg       0.89      0.85      0.87       349\n",
      "weighted avg       0.89      0.89      0.89       349\n",
      "\n"
     ]
    }
   ],
   "source": [
    "from sklearn.metrics import classification_report\n",
    "print(classification_report(y_test_log, y_pred_log))"
   ]
  },
  {
   "cell_type": "markdown",
   "metadata": {},
   "source": [
    "Before:\n",
    "\n",
    "              precision    recall  f1-score   support\n",
    "\n",
    "         0.0       0.89      0.95      0.92       219\n",
    "         1.0       0.87      0.74      0.80        98"
   ]
  },
  {
   "cell_type": "markdown",
   "metadata": {},
   "source": [
    "Overal Accuracy seem to be the same. However\n",
    "\n",
    "- 0:precision + 1 %\n",
    "- 1: recall  + 2%\n",
    "\n",
    "**Changes:** Added heatmap categorized lead groups"
   ]
  },
  {
   "cell_type": "markdown",
   "metadata": {},
   "source": [
    "Note: Tried binirizing the industry groups. The model performance droped by 1%"
   ]
  },
  {
   "cell_type": "code",
   "execution_count": 76,
   "metadata": {},
   "outputs": [
    {
     "name": "stdout",
     "output_type": "stream",
     "text": [
      "Optimization terminated successfully.\n",
      "         Current function value: 0.263030\n",
      "         Iterations 8\n",
      "                                   Results: Logit\n",
      "=====================================================================================\n",
      "Model:                     Logit                  Pseudo R-squared:       0.563      \n",
      "Dependent Variable:        Won                    AIC:                    579.5204   \n",
      "Date:                      2019-03-16 13:00       BIC:                    639.0673   \n",
      "No. Observations:          1056                   Log-Likelihood:         -277.76    \n",
      "Df Model:                  11                     LL-Null:                -635.66    \n",
      "Df Residuals:              1044                   LLR p-value:            2.2175e-146\n",
      "Converged:                 1.0000                 Scale:                  1.0000     \n",
      "No. Iterations:            8.0000                                                    \n",
      "-------------------------------------------------------------------------------------\n",
      "                     Coef.     Std.Err.      z    P>|z|      [0.025         0.975]   \n",
      "-------------------------------------------------------------------------------------\n",
      "Registered_Days_Log -0.7010        0.0910 -7.7062 0.0000        -0.8793       -0.5227\n",
      "day_cold            -2.8270  9209333.5321 -0.0000 1.0000 -18049964.8716 18049959.2175\n",
      "day_hot              2.3677  9209333.5321  0.0000 1.0000 -18049959.6768 18049964.4122\n",
      "day_meh              0.8145  9209333.5321  0.0000 1.0000 -18049961.2300 18049962.8590\n",
      "day_warm             1.6269  9209333.5321  0.0000 1.0000 -18049960.4176 18049963.6714\n",
      "month                0.1010        0.0318  3.1744 0.0015         0.0387        0.1634\n",
      "cold_jobs            0.4630 10338685.1439  0.0000 1.0000 -20263450.0667 20263450.9926\n",
      "hot_jobs            -0.6792 10338685.1439 -0.0000 1.0000 -20263451.2088 20263449.8504\n",
      "meh_jobs             0.6941 10338685.1439  0.0000 1.0000 -20263449.8355 20263451.2238\n",
      "slight_cold_jobs     0.2112 10338685.1439  0.0000 1.0000 -20263450.3184 20263450.7409\n",
      "warm_jobs            1.2929 10338685.1439  0.0000 1.0000 -20263449.2367 20263451.8225\n",
      "Existing Customer    1.7602  7443190.8651  0.0000 1.0000 -14588384.2654 14588387.7858\n",
      "google_mktg_lead    -0.0181  7443190.8651 -0.0000 1.0000 -14588386.0437 14588386.0075\n",
      "other_lead           0.2399  7443190.8651  0.0000 1.0000 -14588385.7857 14588386.2655\n",
      "=====================================================================================\n",
      "\n"
     ]
    }
   ],
   "source": [
    "import statsmodels.api as sm\n",
    "logit_model=sm.Logit(y,X)\n",
    "result=logit_model.fit()\n",
    "print(result.summary2())"
   ]
  },
  {
   "cell_type": "code",
   "execution_count": 77,
   "metadata": {},
   "outputs": [
    {
     "data": {
      "image/png": "[encoded data removed]",
      "text/plain": [
       "<Figure size 432x432 with 1 Axes>"
      ]
     },
     "metadata": {
      "needs_background": "light"
     },
     "output_type": "display_data"
    }
   ],
   "source": [
    "# Compute ROC and AUC\n",
    "from sklearn.metrics import auc, roc_curve\n",
    "fpr_log, tpr_log, thresholds_log = roc_curve(y_true=y_test_log, y_score=y_prob_log)\n",
    "auc_score_log = auc(fpr_log, tpr_log)\n",
    "\n",
    "moody.plot_roc(fpr_log, tpr_log, auc_score_log)"
   ]
  },
  {
   "cell_type": "markdown",
   "metadata": {},
   "source": [
    "**GradientBoostingClassifier**"
   ]
  },
  {
   "cell_type": "code",
   "execution_count": 78,
   "metadata": {},
   "outputs": [
    {
     "data": {
      "text/plain": [
       "Index(['Amount', 'Won', 'close_year', 'create_year', 'Registered_Days', 'day',\n",
       "       'week', 'month', 'Registered_Days_Log', 'day_Log', 'day_pl',\n",
       "       'day_log_maxroot', 'day_cold', 'day_hot', 'day_meh', 'day_warm',\n",
       "       'month_cold', 'month_hot', 'month_warm', 'rank_binary', 'rank_cold',\n",
       "       'rank_hot', 'rank_meh', 'cold_jobs', 'hot_jobs', 'meh_jobs',\n",
       "       'slight_cold_jobs', 'warm_jobs', 'Existing Customer',\n",
       "       'google_mktg_lead', 'other_lead'],\n",
       "      dtype='object')"
      ]
     },
     "execution_count": 78,
     "metadata": {},
     "output_type": "execute_result"
    }
   ],
   "source": [
    "df_vif.columns"
   ]
  },
  {
   "cell_type": "code",
   "execution_count": 79,
   "metadata": {},
   "outputs": [],
   "source": [
    "y = df_vif['Won'].copy()\n",
    "X = df_vif[['Registered_Days_Log',\n",
    "               'day_cold', 'day_hot', 'day_meh','day_warm',\n",
    "#            'month',\n",
    "           'cold_jobs', 'hot_jobs', 'meh_jobs', 'slight_cold_jobs', 'warm_jobs', #jobs\n",
    "           'Existing Customer', 'google_mktg_lead', 'other_lead',    #leads\n",
    "            'month_cold', 'month_hot', 'month_warm', #month corrolation categories\n",
    "#             'A_0-125Q','A_125-250Q', 'A_250-375Q', 'A_375-5Q', 'A_5-625Q', 'A_625-75Q','A_75-875Q',\n",
    "#                'rank_cold', 'rank_hot','rank_meh', #adding ranks does not change anything\n",
    "            ]].copy()\n",
    "\n",
    "# Train-test split\n",
    "X_train, X_test, y_train, y_test_gb = train_test_split(X, y, test_size=0.33, random_state=916)"
   ]
  },
  {
   "cell_type": "code",
   "execution_count": 80,
   "metadata": {},
   "outputs": [
    {
     "data": {
      "text/plain": [
       "GradientBoostingClassifier(criterion='friedman_mse', init=None,\n",
       "              learning_rate=0.001, loss='deviance', max_depth=3,\n",
       "              max_features=None, max_leaf_nodes=None,\n",
       "              min_impurity_decrease=0.0, min_impurity_split=None,\n",
       "              min_samples_leaf=1, min_samples_split=2,\n",
       "              min_weight_fraction_leaf=0.0, n_estimators=1000,\n",
       "              n_iter_no_change=None, presort='auto', random_state=None,\n",
       "              subsample=1.0, tol=0.0001, validation_fraction=0.1,\n",
       "              verbose=0, warm_start=False)"
      ]
     },
     "execution_count": 80,
     "metadata": {},
     "output_type": "execute_result"
    }
   ],
   "source": [
    "from sklearn.ensemble import GradientBoostingClassifier\n",
    "\n",
    "gb = GradientBoostingClassifier(learning_rate = 0.001, n_estimators = 1000)\n",
    "gb.fit(X_train,y_train)"
   ]
  },
  {
   "cell_type": "code",
   "execution_count": 81,
   "metadata": {},
   "outputs": [],
   "source": [
    "y_pred_gb = gb.predict(X_test)"
   ]
  },
  {
   "cell_type": "code",
   "execution_count": 82,
   "metadata": {},
   "outputs": [
    {
     "name": "stdout",
     "output_type": "stream",
     "text": [
      "f1-score of GB classifier on test set: 0.91\n"
     ]
    }
   ],
   "source": [
    "y_pred_gb = gb.predict(X_test)\n",
    "print('f1-score of GB classifier on test set: {:.2f}'.format(gb.score(X_test, y_test_gb)))\n",
    "y_prob_gb = gb.predict_proba(X_test)[:, 1]"
   ]
  },
  {
   "cell_type": "code",
   "execution_count": 83,
   "metadata": {},
   "outputs": [
    {
     "name": "stdout",
     "output_type": "stream",
     "text": [
      "              precision    recall  f1-score   support\n",
      "\n",
      "         0.0       0.95      0.93      0.94       269\n",
      "         1.0       0.77      0.84      0.80        80\n",
      "\n",
      "   micro avg       0.91      0.91      0.91       349\n",
      "   macro avg       0.86      0.88      0.87       349\n",
      "weighted avg       0.91      0.91      0.91       349\n",
      "\n"
     ]
    }
   ],
   "source": [
    "from sklearn.metrics import classification_report\n",
    "print(classification_report(y_test_gb, y_pred_gb))"
   ]
  },
  {
   "cell_type": "markdown",
   "metadata": {},
   "source": [
    "\n",
    "              precision    recall  f1-score   support\n",
    "\n",
    "         0.0       0.95      0.93      0.94       269\n",
    "         1.0       0.77      0.84      0.80        80\n"
   ]
  },
  {
   "cell_type": "code",
   "execution_count": 84,
   "metadata": {},
   "outputs": [
    {
     "data": {
      "image/png": "[encoded data removed]",
      "text/plain": [
       "<Figure size 432x432 with 1 Axes>"
      ]
     },
     "metadata": {
      "needs_background": "light"
     },
     "output_type": "display_data"
    }
   ],
   "source": [
    "# Compute ROC and AUC\n",
    "from sklearn.metrics import auc, roc_curve\n",
    "fpr, tpr, thresholds = roc_curve(y_true=y_test_gb, y_score=y_prob_gb)\n",
    "auc_score = auc(fpr, tpr)\n",
    "\n",
    "moody.plot_roc(fpr, tpr, auc_score)"
   ]
  },
  {
   "cell_type": "markdown",
   "metadata": {},
   "source": [
    "Looks like gradient Boosts performs the best given the engineered fearures. \n",
    "\n",
    "Let me proceed with the profir curve. \n",
    "\n",
    "# Expected Profit"
   ]
  },
  {
   "cell_type": "markdown",
   "metadata": {},
   "source": [
    "### Cost Benefit Matrix\n",
    "\n",
    "\n",
    "**Baseline**: Do nothing on positive predictions( TP, FP)\n",
    "\n",
    "Reasoning behind the baseline:\n",
    "- TP : Anyway juniors are going to close that deal.\n",
    "- FP : Again with or without the machine learnign model, that customer is a loss.\n",
    "\n",
    "**Assumptions**: \n",
    "- Junior Recruiters get 16% commision from succesfull deals.\n",
    "- Senior Recruiters get 26% commision from succesfull deals. \n",
    "- The probability of a senior recruiter to succesffully complete the deal is 11% higher than that of a junior.\n",
    "\n",
    "**INPUTS**\n",
    "- TP: Do nothing : 0\n",
    "- TN: \n",
    "On this case, the model predicted that the deal will end up as a failure.\n",
    "And actually it was going to end up as a failure.\n",
    "\n",
    "We want to change that, and thats why we plan to assign the deal to more skilled\n",
    "employee, which is in our case a senior recruiter.\n",
    "\n",
    "They cost more yet the their chances of succeding the deal is higher.\n",
    "\n",
    "(Avg_Amount - (Avg_Amount * commision_rate))  **  senior_probability_of_success\n",
    "\n",
    "- FP: Do nothing: 0 \n",
    "- FN: Mistake there, the model predicts that the customer is a loss case for junior\n",
    "recruiters and with my reccomendation the organization assigns the case to a senior staff.\n",
    "\n",
    "However, actually juniors could close the deal and the organization would pay less in compensation.\n",
    "\n",
    " Avg_Amount *  (-) senior_probability_of_success\n",
    "\n",
    "\n",
    "\n",
    "\n",
    "\n",
    "\n",
    "\n",
    "\n",
    "\n",
    "\n",
    "\n",
    "\n"
   ]
  },
  {
   "cell_type": "code",
   "execution_count": 85,
   "metadata": {},
   "outputs": [],
   "source": [
    "avg_amount = df_vif[df_vif.Amount> 0].Amount.mean()\n",
    "senior_prob_of_success_diff = 0.11\n",
    "prob = senior_prob_of_success_diff"
   ]
  },
  {
   "cell_type": "code",
   "execution_count": 86,
   "metadata": {},
   "outputs": [
    {
     "data": {
      "text/plain": [
       "-30389.80283114257"
      ]
     },
     "execution_count": 86,
     "metadata": {},
     "output_type": "execute_result"
    }
   ],
   "source": [
    "- avg_amount"
   ]
  },
  {
   "cell_type": "code",
   "execution_count": 87,
   "metadata": {},
   "outputs": [
    {
     "data": {
      "text/plain": [
       "array([[    0.        , -3342.87831143],\n",
       "       [    0.        ,  3008.59048028]])"
      ]
     },
     "execution_count": 87,
     "metadata": {},
     "output_type": "execute_result"
    }
   ],
   "source": [
    "tp = 0\n",
    "tn = (avg_amount - (avg_amount * (0.26 - 0.16))) * 0.11  # that money is made\n",
    "fp = 0\n",
    "fn = - avg_amount * 0.11 # that money is gone\n",
    "\n",
    "cost_mat = np.array([[tp, fn], [fp, tn]])\n",
    "cost_mat"
   ]
  },
  {
   "cell_type": "markdown",
   "metadata": {},
   "source": [
    "Although the gradient boosting model performs better with 91% f-1 score compared to 89% of logistic regression. Their AUC scores are the same and there is a slight difference when it comes to ROC curves.\n",
    "\n",
    "Reminding the fact that within crafted business case false negatives really hurts the business, I want to test both models too see which one returns a higher expected profit."
   ]
  },
  {
   "cell_type": "markdown",
   "metadata": {},
   "source": [
    "## **Profit Curve**: Logistic Regression Model\n",
    "\n",
    "Set those tresholds."
   ]
  },
  {
   "cell_type": "code",
   "execution_count": 88,
   "metadata": {},
   "outputs": [],
   "source": [
    "from sklearn.metrics import confusion_matrix\n",
    "\n",
    "expected_total_profit_log = []\n",
    "\n",
    "\n",
    "treshholds = np.linspace(0,1,100)\n",
    "for t in treshholds:\n",
    "    predictions = (y_prob_log > t).astype(int)\n",
    "    tn, fp, fn, tp = confusion_matrix(y_test_log, predictions).ravel()\n",
    "    conf_mat = np.array([[tp, fn], [fp, tn]])\n",
    "    expected_total_profit_log.append((conf_mat * cost_mat).sum())\n"
   ]
  },
  {
   "cell_type": "code",
   "execution_count": 89,
   "metadata": {},
   "outputs": [
    {
     "data": {
      "text/plain": [
       "25"
      ]
     },
     "execution_count": 89,
     "metadata": {},
     "output_type": "execute_result"
    }
   ],
   "source": [
    "maximum_expected_profit_index_log = np.argsort(np.array(expected_total_profit_log))[-1]\n",
    "expected_total_profit_log = list(np.array(expected_total_profit_log) / len(y_prob_log))\n",
    "maximum_expected_profit_index_log"
   ]
  },
  {
   "cell_type": "code",
   "execution_count": 90,
   "metadata": {},
   "outputs": [
    {
     "data": {
      "text/plain": [
       "1830.4413905829458"
      ]
     },
     "execution_count": 90,
     "metadata": {},
     "output_type": "execute_result"
    }
   ],
   "source": [
    "expected_total_profit_log[maximum_expected_profit_index_log]"
   ]
  },
  {
   "cell_type": "code",
   "execution_count": 91,
   "metadata": {},
   "outputs": [
    {
     "name": "stdout",
     "output_type": "stream",
     "text": [
      "Threshold that gives the highest expected profit:0.25252525252525254\n"
     ]
    },
    {
     "data": {
      "image/png": "[encoded data removed]",
      "text/plain": [
       "<Figure size 432x432 with 1 Axes>"
      ]
     },
     "metadata": {
      "needs_background": "light"
     },
     "output_type": "display_data"
    }
   ],
   "source": [
    "plt.figure(figsize=(6,6))\n",
    "plt.plot(treshholds, expected_total_profit_log, label='Logistic Regression')\n",
    "plt.xlabel('Thresholds')\n",
    "plt.ylabel('Expected Profit Per Deal')\n",
    "plt.axvline(treshholds[maximum_expected_profit_index_log])\n",
    "print(f'Threshold that gives the highest expected profit:{treshholds[maximum_expected_profit_index_log]}')"
   ]
  },
  {
   "cell_type": "markdown",
   "metadata": {},
   "source": [
    "On average implementing the logistic regression with regard to business strategy increases the progit by $ 1830 given treshold of 0.25."
   ]
  },
  {
   "cell_type": "markdown",
   "metadata": {},
   "source": [
    "### Profit Curve: GradientBoostClassifier"
   ]
  },
  {
   "cell_type": "code",
   "execution_count": 92,
   "metadata": {},
   "outputs": [],
   "source": [
    "from sklearn.metrics import confusion_matrix\n",
    "\n",
    "expected_total_profit_gb = []\n",
    "\n",
    "\n",
    "treshholds = np.linspace(0,1,100)\n",
    "for t in treshholds:\n",
    "    predictions = (y_prob_gb > t).astype(int)\n",
    "    tn, fp, fn, tp = confusion_matrix(y_test_gb, predictions).ravel()\n",
    "    conf_mat = np.array([[tp, fn], [fp, tn]])\n",
    "    expected_total_profit_gb.append((conf_mat * cost_mat).sum())\n"
   ]
  },
  {
   "cell_type": "code",
   "execution_count": 93,
   "metadata": {},
   "outputs": [
    {
     "data": {
      "text/plain": [
       "49"
      ]
     },
     "execution_count": 93,
     "metadata": {},
     "output_type": "execute_result"
    }
   ],
   "source": [
    "maximum_expected_profit_index_gb = np.argsort(np.array(expected_total_profit_gb))[-1]\n",
    "expected_total_profit_gb = list(np.array(expected_total_profit_gb) / len(y_prob_gb))\n",
    "maximum_expected_profit_index_gb"
   ]
  },
  {
   "cell_type": "code",
   "execution_count": 94,
   "metadata": {},
   "outputs": [
    {
     "data": {
      "text/plain": [
       "2022.01034825777"
      ]
     },
     "execution_count": 94,
     "metadata": {},
     "output_type": "execute_result"
    }
   ],
   "source": [
    "expected_total_profit_gb[maximum_expected_profit_index_gb]"
   ]
  },
  {
   "cell_type": "code",
   "execution_count": 95,
   "metadata": {},
   "outputs": [
    {
     "name": "stdout",
     "output_type": "stream",
     "text": [
      "Threshold that gives the highest expected profit:0.494949494949495\n"
     ]
    },
    {
     "data": {
      "image/png": "[encoded data removed]",
      "text/plain": [
       "<Figure size 432x432 with 1 Axes>"
      ]
     },
     "metadata": {
      "needs_background": "light"
     },
     "output_type": "display_data"
    }
   ],
   "source": [
    "plt.figure(figsize=(6,6))\n",
    "plt.plot(treshholds, expected_total_profit_gb, label='Logistic Regression')\n",
    "plt.xlabel('Thresholds')\n",
    "plt.ylabel('Expected Profit Per Deal')\n",
    "plt.axvline(treshholds[maximum_expected_profit_index_gb])\n",
    "print(f'Threshold that gives the highest expected profit:{treshholds[maximum_expected_profit_index_gb]}')"
   ]
  },
  {
   "cell_type": "markdown",
   "metadata": {},
   "source": [
    "On average implementing the logistic regression with regard to business strategy increases the progit by $ 2022 given treshold of 0.49."
   ]
  },
  {
   "cell_type": "markdown",
   "metadata": {},
   "source": [
    "\n",
    "## Conclusion"
   ]
  },
  {
   "cell_type": "markdown",
   "metadata": {},
   "source": [
    "With given features the gradient boost performed better in terms of both performance metrics and profits. Therefore using making use of such model in accordance to crafted business senario is expected to increase revenue per negatively predicted deal by $ 2022.\n",
    "\n",
    "Lets find out the total expected profit increase per 1054 deals which is the number of datapoint provided for the analisis.\n",
    "\n",
    "The profit change with influence of the ML model occurs merely with respect to True Negative and False negative predictions.\n",
    "\n",
    "As mentioned TN increases revenue whereas FN decreases it. As we found the maximized profit per datapoint that the organization reacts, multiply that profit with the number of negative predictions shall return the expected total profit given 1100 datapoints."
   ]
  },
  {
   "cell_type": "markdown",
   "metadata": {},
   "source": [
    "- Total number of data points provided : 1054\n",
    "- Total number of negative predictions(T or F in accordance to gradient boost model and 349 datapoints of test set): 269"
   ]
  },
  {
   "cell_type": "code",
   "execution_count": 102,
   "metadata": {},
   "outputs": [],
   "source": [
    "Estimated_number_of_negative_predictions_per_1054 = 1054 * 269 / 349"
   ]
  },
  {
   "cell_type": "code",
   "execution_count": 103,
   "metadata": {},
   "outputs": [],
   "source": [
    "Expected_total_profit_per_1054 = 2022 * Estimated_number_of_negative_predictions_per_1054"
   ]
  },
  {
   "cell_type": "code",
   "execution_count": 104,
   "metadata": {},
   "outputs": [
    {
     "data": {
      "text/plain": [
       "1642663.53008596"
      ]
     },
     "execution_count": 104,
     "metadata": {},
     "output_type": "execute_result"
    }
   ],
   "source": [
    "Expected_total_profit_per_1054"
   ]
  },
  {
   "cell_type": "markdown",
   "metadata": {},
   "source": [
    "**Thoughts:** the total expected profit is higher compared to my expectations as a result of the compensation rates and "
   ]
  }
 ],
 "metadata": {
  "kernelspec": {
   "display_name": "Python 3",
   "language": "python",
   "name": "python3"
  },
  "language_info": {
   "codemirror_mode": {
    "name": "ipython",
    "version": 3
   },
   "file_extension": ".py",
   "mimetype": "text/x-python",
   "name": "python",
   "nbconvert_exporter": "python",
   "pygments_lexer": "ipython3",
   "version": "3.6.3"
  }
 },
 "nbformat": 4,
 "nbformat_minor": 2
}
